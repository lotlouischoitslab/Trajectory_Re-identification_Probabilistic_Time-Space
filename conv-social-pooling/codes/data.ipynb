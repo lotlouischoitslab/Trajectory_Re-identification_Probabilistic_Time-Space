{
 "cells": [
  {
   "cell_type": "code",
   "execution_count": 4,
   "metadata": {},
   "outputs": [],
   "source": [
    "louis = [-0.0104441,  -0.01513053, -0.02063373, -0.02622891 -0.02682055 -0.02427693,\n",
    " -0.02041356, -0.01575402,-0.00973248,-0.00828587,-0.0077645 ,-0.0046504,\n",
    "  0.00201104,  0.01084524, 0.02032382, 0.03135259, 0.04547236, 0.0622695,\n",
    "  0.08000118,  0.09692345, 0.11209334, 0.12561616, 0.13808447, 0.1497993,\n",
    "  0.16061255,  0.17005831, 0.17766374, 0.18341106, 0.18776354, 0.191665,\n",
    "  0.19662032,  0.20400253, 0.21421227, 0.22679377, 0.24086788, 0.2552836,\n",
    "  0.26898333,  0.2814134 , 0.29251516, 0.30512294, 0.3280601 , 0.3496361,\n",
    "  0.36471784,  0.38822868, 0.41635573, 0.4368433 , 0.44603238, 0.4493846,\n",
    "  0.45140162,  0.44993222] "
   ]
  },
  {
   "cell_type": "code",
   "execution_count": 5,
   "metadata": {},
   "outputs": [
    {
     "data": {
      "text/plain": [
       "48"
      ]
     },
     "execution_count": 5,
     "metadata": {},
     "output_type": "execute_result"
    }
   ],
   "source": [
    "len(louis)"
   ]
  },
  {
   "cell_type": "code",
   "execution_count": null,
   "metadata": {},
   "outputs": [],
   "source": []
  }
 ],
 "metadata": {
  "kernelspec": {
   "display_name": "base",
   "language": "python",
   "name": "python3"
  },
  "language_info": {
   "codemirror_mode": {
    "name": "ipython",
    "version": 3
   },
   "file_extension": ".py",
   "mimetype": "text/x-python",
   "name": "python",
   "nbconvert_exporter": "python",
   "pygments_lexer": "ipython3",
   "version": "3.9.18"
  }
 },
 "nbformat": 4,
 "nbformat_minor": 2
}
